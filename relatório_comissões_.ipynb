{
  "nbformat": 4,
  "nbformat_minor": 0,
  "metadata": {
    "colab": {
      "provenance": []
    },
    "kernelspec": {
      "name": "python3",
      "display_name": "Python 3"
    },
    "language_info": {
      "name": "python"
    }
  },
  "cells": [
    {
      "cell_type": "markdown",
      "source": [
        "---\n",
        "\n",
        "# Extração de Dados da API\n",
        "\n",
        "## Propósito do Script\n",
        "\n",
        "Este script foi criado para extrair dados de projetos legislativos da cidade de São Paulo, Brasil, a partir de uma API pública. Ele recupera dados de diferentes tipos de projetos para um determinado ano, extrai informações relevantes e as salva em um arquivo Excel.\n",
        "\n",
        "## Como usar\n",
        "\n",
        "1. **Definir o ano**: No final do script, na chamada da função `main()`, você pode definir o ano dos projetos que deseja extrair. Por exemplo, para extrair projetos do ano de 2023, você chamaria a função como `main(2023)`.\n",
        "\n",
        "2. **Executar o script**: Execute o script em um ambiente Python que tenha as bibliotecas `requests` e `pandas` instaladas. O script fará requisições à API, extrairá os dados e os salvará em um arquivo Excel.\n",
        "\n",
        "3. **Verificar o arquivo de saída**: Após a execução bem-sucedida do script, um arquivo Excel será criado no mesmo diretório do script. O nome do arquivo será `comissoes_relatorio_{ano}.xlsx`, onde `{ano}` é o ano que você definiu na chamada da função `main()`.\n",
        "\n",
        "## Detalhes do Script\n",
        "\n",
        "O script é dividido em várias funções para torná-lo mais modular e fácil de entender:\n",
        "\n",
        "- `get_data_from_api(tipo, ano=2023)`: Esta função faz uma requisição à API para obter dados de um determinado tipo de projeto para um determinado ano.\n",
        "\n",
        "- `extract_data(data_projetos)`: Esta função extrai dados relevantes dos projetos retornados pela API.\n",
        "\n",
        "- `get_projetos_por_ano(ano=2023)`: Esta função faz uma requisição à API para obter todos os projetos para um determinado ano.\n",
        "\n",
        "- `main(ano=2023)`: Esta é a função principal que coordena a execução de todas as outras funções.\n",
        "\n",
        "---\n"
      ],
      "metadata": {
        "id": "jvxVHoVGSFsK"
      }
    },
    {
      "cell_type": "code",
      "source": [
        "import requests\n",
        "import pandas as pd\n",
        "\n",
        "# Função para obter dados da API\n",
        "def get_data_from_api(tipo, ano=2023):\n",
        "    endpoint_projetos = \"https://splegisws.saopaulo.sp.leg.br/ws/ws2.asmx/ProjetosReunioesDeComissaoJSON\"\n",
        "    params_projetos = {\"ano\": ano, \"tipo\": tipo}\n",
        "    response_projetos = requests.get(endpoint_projetos, params=params_projetos)\n",
        "    return response_projetos.json() if response_projetos.text.strip() else []\n",
        "\n",
        "# Função para extrair dados dos projetos\n",
        "def extract_data(data_projetos):\n",
        "    data_total = []\n",
        "    for projeto in data_projetos:\n",
        "        if 'encaminhamentos' in projeto:\n",
        "            for encaminhamento in projeto[\"encaminhamentos\"]:\n",
        "                if 'comissoes' in encaminhamento:\n",
        "                    for comissao in encaminhamento[\"comissoes\"]:\n",
        "                        parecer = comissao.get(\"conclusao\", \"\")\n",
        "                        if not parecer:\n",
        "                            parecer = \"Parecer ainda não emitido\"\n",
        "                        data = {\n",
        "                            \"Comissão\": comissao[\"nome\"],\n",
        "                            \"Projeto/Requerimento\": f\"{projeto['tipo']} {projeto['numero']}/{projeto['ano']}\",\n",
        "                            \"Relatoria\": comissao[\"relator\"],\n",
        "                            \"Parecer\": parecer,\n",
        "                            \"Chave\": projeto[\"chave\"]\n",
        "                        }\n",
        "                        data_total.append(data)\n",
        "    return data_total\n",
        "\n",
        "# Função para obter projetos por ano\n",
        "def get_projetos_por_ano(ano=2023):\n",
        "    endpoint_projetos_por_ano = \"https://splegisws.saopaulo.sp.leg.br/ws/ws2.asmx/ProjetosPorAnoJSON\"\n",
        "    params_projetos_por_ano = {\"ano\": ano}\n",
        "    response_projetos_por_ano = requests.get(endpoint_projetos_por_ano, params=params_projetos_por_ano)\n",
        "    try:\n",
        "        data_projetos_por_ano = response_projetos_por_ano.json()\n",
        "    except json.JSONDecodeError:\n",
        "        print(\"A resposta da API para ProjetosPorAnoJSON não é um JSON válido.\")\n",
        "        data_projetos_por_ano = []\n",
        "    return data_projetos_por_ano\n",
        "\n",
        "# Função principal\n",
        "def main(ano=2023):\n",
        "    tipos = [\"PL\", \"PDL\", \"PR\", \"PLO\"]\n",
        "    data_total = []\n",
        "    for tipo in tipos:\n",
        "        data_projetos = get_data_from_api(tipo, ano)\n",
        "        data_total.extend(extract_data(data_projetos))\n",
        "    df_total = pd.DataFrame(data_total)\n",
        "    df_projetos_por_ano = pd.DataFrame(get_projetos_por_ano(ano))\n",
        "    df_total = pd.merge(df_total, df_projetos_por_ano, left_on=\"Chave\", right_on=\"chave\", how=\"left\")\n",
        "    df_total = df_total[[\"Comissão\", \"Projeto/Requerimento\", \"Relatoria\", \"Parecer\", \"ementa\"]]\n",
        "    df_total.columns = [\"Comissão\", \"Projeto/Requerimento\", \"Relatoria\", \"Parecer\", \"Ementa\"]\n",
        "    df_total.to_excel(f\"comissoes_relatorio_{ano}.xlsx\", index=False)\n",
        "    print(f\"Dados extraídos com sucesso e salvos em comissoes_relatorio_{ano}.xlsx\")\n",
        "\n",
        "if __name__ == \"__main__\":\n",
        "    main()\n",
        "\n",
        "\n"
      ],
      "metadata": {
        "colab": {
          "base_uri": "https://localhost:8080/"
        },
        "id": "8JeYggBcMtQ2",
        "outputId": "19568211-d6bd-4958-b585-02fbb4ec2fea"
      },
      "execution_count": 11,
      "outputs": [
        {
          "output_type": "stream",
          "name": "stdout",
          "text": [
            "Dados extraídos com sucesso e salvos em comissoes_relatorio_2023.xlsx\n"
          ]
        }
      ]
    },
    {
      "cell_type": "code",
      "source": [],
      "metadata": {
        "id": "DrkpA5QDUiS0"
      },
      "execution_count": null,
      "outputs": []
    }
  ]
}